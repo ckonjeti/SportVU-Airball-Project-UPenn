{
 "cells": [
  {
   "cell_type": "code",
   "execution_count": 1,
   "metadata": {},
   "outputs": [],
   "source": [
    "import json\n",
    "from collections import defaultdict"
   ]
  },
  {
   "cell_type": "code",
   "execution_count": 2,
   "metadata": {},
   "outputs": [],
   "source": [
    "def get_coordinates(file, arr):\n",
    "    \n",
    "    #opens game file\n",
    "    with open(file) as f:\n",
    "        data = json.load(f)\n",
    "        \n",
    "    #enters event section of file\n",
    "    events = data[\"events\"]\n",
    "    for x in range (0, len(events)):\n",
    "        \n",
    "        visitors = []\n",
    "        home = []\n",
    "        \n",
    "        #gets playerIDs for the keys for dict\n",
    "        for a in range (0, len(events[x]['visitor']['players'])):\n",
    "            visitors.append(events[x]['visitor']['players'][a])\n",
    "            \n",
    "        for b in range (0, len(events[x]['home']['players'])):\n",
    "            home.append(events[x]['home']['players'][b])\n",
    "        \n",
    "        #creates empty list for key if key does not exist\n",
    "        for c in range(0, len(visitors)):\n",
    "            if visitors[c]['playerid'] in arr.keys():\n",
    "                pass\n",
    "            else:\n",
    "                arr[visitors[c]['playerid']] = {}\n",
    "                \n",
    "        for d in range(0, len(home)):\n",
    "            if home[d]['playerid'] in arr.keys():\n",
    "                pass\n",
    "            else:\n",
    "                arr[home[d]['playerid']] = {}\n",
    "        #appends a list containing the coordinates and time to corresponding playerID key\n",
    "        try:\n",
    "            \n",
    "            for r in range(len(events[x]['moments'])):\n",
    "                coords = events[x]['moments'][r][5]\n",
    "                time = events[x]['moments'][r][2]\n",
    "                #print('1')\n",
    "                for j in range (0, len(coords)):\n",
    "                    temp = defaultdict(list)\n",
    "                    playerID = coords[j][1]\n",
    "                    #print(arr[playerID].keys())\n",
    "                    if events[x]['eventId'] in arr[playerID].keys():\n",
    "                        pass\n",
    "                    else:\n",
    "                        temp = []\n",
    "                        #print('2')\n",
    "                    if events[x]['eventId'] not in arr[playerID].keys():\n",
    "                        temp = [[coords[j][2:], time]]\n",
    "                    else:\n",
    "                        temp = arr[playerID][events[x]['eventId']];\n",
    "                        temp.append([coords[j][2:], time])\n",
    "                        \n",
    "                        \n",
    "                    arr[playerID][events[x]['eventId']] = temp\n",
    "        except:\n",
    "            pass"
   ]
  },
  {
   "cell_type": "code",
   "execution_count": 3,
   "metadata": {},
   "outputs": [],
   "source": [
    "def main(file, arr):\n",
    "    get_coordinates(file, arr)\n"
   ]
  },
  {
   "cell_type": "code",
   "execution_count": null,
   "metadata": {},
   "outputs": [],
   "source": []
  }
 ],
 "metadata": {
  "kernelspec": {
   "display_name": "Python 3",
   "language": "python",
   "name": "python3"
  },
  "language_info": {
   "codemirror_mode": {
    "name": "ipython",
    "version": 3
   },
   "file_extension": ".py",
   "mimetype": "text/x-python",
   "name": "python",
   "nbconvert_exporter": "python",
   "pygments_lexer": "ipython3",
   "version": "3.7.1"
  }
 },
 "nbformat": 4,
 "nbformat_minor": 2
}

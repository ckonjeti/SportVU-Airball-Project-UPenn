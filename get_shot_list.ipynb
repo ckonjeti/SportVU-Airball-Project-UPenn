{
 "cells": [
  {
   "cell_type": "code",
   "execution_count": 1,
   "metadata": {},
   "outputs": [],
   "source": [
    "import csv"
   ]
  },
  {
   "cell_type": "code",
   "execution_count": 2,
   "metadata": {},
   "outputs": [],
   "source": [
    "def get_shot_list(file, arr):\n",
    "    with open(file) as f:\n",
    "        csv_reader = csv.reader(f, delimiter=',')\n",
    "        for row in csv_reader:\n",
    "            if (row[10] == 'Missed Shot'):\n",
    "                if row[1] not in arr.keys():\n",
    "                    arr[row[1]] = []\n",
    "                else:\n",
    "                    pass\n",
    "                temp = arr.get(row[1])\n",
    "                temp.append([int(row[2]), row[3]])\n",
    "                arr[row[1]] = temp\n",
    "        sorted(arr.items(), key = lambda item: (item[0]))\n",
    "        for key in arr:\n",
    "            arr[key].sort()"
   ]
  },
  {
   "cell_type": "code",
   "execution_count": null,
   "metadata": {},
   "outputs": [],
   "source": [
    "def main(file, arr):\n",
    "    get_shot_list(file, arr)"
   ]
  }
 ],
 "metadata": {
  "kernelspec": {
   "display_name": "Python 3",
   "language": "python",
   "name": "python3"
  },
  "language_info": {
   "codemirror_mode": {
    "name": "ipython",
    "version": 3
   },
   "file_extension": ".py",
   "mimetype": "text/x-python",
   "name": "python",
   "nbconvert_exporter": "python",
   "pygments_lexer": "ipython3",
   "version": "3.7.1"
  }
 },
 "nbformat": 4,
 "nbformat_minor": 2
}
